{
 "cells": [
  {
   "cell_type": "code",
   "execution_count": 3,
   "metadata": {},
   "outputs": [
    {
     "name": "stderr",
     "output_type": "stream",
     "text": [
      "2023-03-04 12:37:35.596156: I tensorflow/core/platform/cpu_feature_guard.cc:193] This TensorFlow binary is optimized with oneAPI Deep Neural Network Library (oneDNN) to use the following CPU instructions in performance-critical operations:  AVX2 FMA\n",
      "To enable them in other operations, rebuild TensorFlow with the appropriate compiler flags.\n",
      "2023-03-04 12:37:46.494385: W tensorflow/compiler/xla/stream_executor/platform/default/dso_loader.cc:64] Could not load dynamic library 'libnvinfer.so.7'; dlerror: libnvinfer.so.7: cannot open shared object file: No such file or directory; LD_LIBRARY_PATH: :/home/mukundan/anaconda3/envs/aifit/lib/\n",
      "2023-03-04 12:37:46.494494: W tensorflow/compiler/xla/stream_executor/platform/default/dso_loader.cc:64] Could not load dynamic library 'libnvinfer_plugin.so.7'; dlerror: libnvinfer_plugin.so.7: cannot open shared object file: No such file or directory; LD_LIBRARY_PATH: :/home/mukundan/anaconda3/envs/aifit/lib/\n",
      "2023-03-04 12:37:46.494503: W tensorflow/compiler/tf2tensorrt/utils/py_utils.cc:38] TF-TRT Warning: Cannot dlopen some TensorRT libraries. If you would like to use Nvidia GPU with TensorRT, please make sure the missing libraries mentioned above are installed properly.\n"
     ]
    }
   ],
   "source": [
    "import os\n",
    "import itertools\n",
    "import pandas as pd\n",
    "import matplotlib.pyplot as plt\n",
    "\n",
    "from keras.layers import Activation, Conv3D, Dense, Dropout, Flatten, MaxPooling3D\n",
    "from keras.losses import categorical_crossentropy\n",
    "from keras.models import Sequential\n",
    "from keras.optimizers import Adam\n",
    "from keras.utils import to_categorical\n",
    "from tqdm import tqdm\n",
    "from sklearn.metrics import confusion_matrix"
   ]
  },
  {
   "cell_type": "code",
   "execution_count": 4,
   "metadata": {},
   "outputs": [
    {
     "name": "stderr",
     "output_type": "stream",
     "text": [
      "2023-03-04 12:38:00.357239: I tensorflow/compiler/xla/stream_executor/cuda/cuda_gpu_executor.cc:981] successful NUMA node read from SysFS had negative value (-1), but there must be at least one NUMA node, so returning NUMA node zero\n",
      "2023-03-04 12:38:01.330702: I tensorflow/compiler/xla/stream_executor/cuda/cuda_gpu_executor.cc:981] successful NUMA node read from SysFS had negative value (-1), but there must be at least one NUMA node, so returning NUMA node zero\n",
      "2023-03-04 12:38:01.330931: I tensorflow/compiler/xla/stream_executor/cuda/cuda_gpu_executor.cc:981] successful NUMA node read from SysFS had negative value (-1), but there must be at least one NUMA node, so returning NUMA node zero\n",
      "2023-03-04 12:38:01.347564: I tensorflow/core/platform/cpu_feature_guard.cc:193] This TensorFlow binary is optimized with oneAPI Deep Neural Network Library (oneDNN) to use the following CPU instructions in performance-critical operations:  AVX2 FMA\n",
      "To enable them in other operations, rebuild TensorFlow with the appropriate compiler flags.\n",
      "2023-03-04 12:38:01.368789: I tensorflow/compiler/xla/stream_executor/cuda/cuda_gpu_executor.cc:981] successful NUMA node read from SysFS had negative value (-1), but there must be at least one NUMA node, so returning NUMA node zero\n",
      "2023-03-04 12:38:01.369524: I tensorflow/compiler/xla/stream_executor/cuda/cuda_gpu_executor.cc:981] successful NUMA node read from SysFS had negative value (-1), but there must be at least one NUMA node, so returning NUMA node zero\n",
      "2023-03-04 12:38:01.370010: I tensorflow/compiler/xla/stream_executor/cuda/cuda_gpu_executor.cc:981] successful NUMA node read from SysFS had negative value (-1), but there must be at least one NUMA node, so returning NUMA node zero\n",
      "2023-03-04 12:38:06.317224: I tensorflow/compiler/xla/stream_executor/cuda/cuda_gpu_executor.cc:981] successful NUMA node read from SysFS had negative value (-1), but there must be at least one NUMA node, so returning NUMA node zero\n",
      "2023-03-04 12:38:06.329719: I tensorflow/compiler/xla/stream_executor/cuda/cuda_gpu_executor.cc:981] successful NUMA node read from SysFS had negative value (-1), but there must be at least one NUMA node, so returning NUMA node zero\n",
      "2023-03-04 12:38:06.330005: I tensorflow/compiler/xla/stream_executor/cuda/cuda_gpu_executor.cc:981] successful NUMA node read from SysFS had negative value (-1), but there must be at least one NUMA node, so returning NUMA node zero\n",
      "2023-03-04 12:38:06.338390: I tensorflow/core/common_runtime/gpu/gpu_device.cc:1613] Created device /job:localhost/replica:0/task:0/device:GPU:0 with 2613 MB memory:  -> device: 0, name: NVIDIA GeForce GTX 1650, pci bus id: 0000:01:00.0, compute capability: 7.5\n"
     ]
    }
   ],
   "source": [
    "squat_3dcnnmodel = Sequential()\n",
    "squat_3dcnnmodel.add(Conv3D(32, kernel_size=(3, 3, 3), input_shape=([32, 32, 30, 3]), padding='same'))\n",
    "squat_3dcnnmodel.add(Activation('relu'))\n",
    "squat_3dcnnmodel.add(Conv3D(32, kernel_size=(3, 3, 3), padding='same'))\n",
    "squat_3dcnnmodel.add(Activation('softmax'))\n",
    "squat_3dcnnmodel.add(MaxPooling3D(pool_size=(3, 3, 3), padding='same'))\n",
    "squat_3dcnnmodel.add(Dropout(0.25))\n",
    "\n",
    "squat_3dcnnmodel.add(Conv3D(64, kernel_size=(3, 3, 3), padding='same'))\n",
    "squat_3dcnnmodel.add(Activation('relu'))\n",
    "squat_3dcnnmodel.add(Conv3D(64, kernel_size=(3, 3, 3), padding='same'))\n",
    "squat_3dcnnmodel.add(Activation('softmax'))\n",
    "squat_3dcnnmodel.add(MaxPooling3D(pool_size=(3, 3, 3), padding='same'))\n",
    "squat_3dcnnmodel.add(Dropout(0.25))\n",
    "\n",
    "squat_3dcnnmodel.add(Flatten())\n",
    "squat_3dcnnmodel.add(Dense(512, activation='sigmoid'))\n",
    "squat_3dcnnmodel.add(Dropout(0.5))\n",
    "squat_3dcnnmodel.add(Dense(2, activation='softmax'))"
   ]
  },
  {
   "cell_type": "code",
   "execution_count": 5,
   "metadata": {},
   "outputs": [],
   "source": [
    "squat_3dcnnmodel.load_weights(\"/home/mukundan/Desktop/VIII SEM/Data/output/squat_3dcnnmodel.hd5\") #edit the path to yours\n",
    "squat_3dcnnmodel.trainable = False"
   ]
  },
  {
   "cell_type": "code",
   "execution_count": 6,
   "metadata": {},
   "outputs": [
    {
     "name": "stdout",
     "output_type": "stream",
     "text": [
      "Model: \"sequential\"\n",
      "_________________________________________________________________\n",
      " Layer (type)                Output Shape              Param #   \n",
      "=================================================================\n",
      " conv3d (Conv3D)             (None, 32, 32, 30, 32)    2624      \n",
      "                                                                 \n",
      " activation (Activation)     (None, 32, 32, 30, 32)    0         \n",
      "                                                                 \n",
      " conv3d_1 (Conv3D)           (None, 32, 32, 30, 32)    27680     \n",
      "                                                                 \n",
      " activation_1 (Activation)   (None, 32, 32, 30, 32)    0         \n",
      "                                                                 \n",
      " max_pooling3d (MaxPooling3D  (None, 11, 11, 10, 32)   0         \n",
      " )                                                               \n",
      "                                                                 \n",
      " dropout (Dropout)           (None, 11, 11, 10, 32)    0         \n",
      "                                                                 \n",
      " conv3d_2 (Conv3D)           (None, 11, 11, 10, 64)    55360     \n",
      "                                                                 \n",
      " activation_2 (Activation)   (None, 11, 11, 10, 64)    0         \n",
      "                                                                 \n",
      " conv3d_3 (Conv3D)           (None, 11, 11, 10, 64)    110656    \n",
      "                                                                 \n",
      " activation_3 (Activation)   (None, 11, 11, 10, 64)    0         \n",
      "                                                                 \n",
      " max_pooling3d_1 (MaxPooling  (None, 4, 4, 4, 64)      0         \n",
      " 3D)                                                             \n",
      "                                                                 \n",
      " dropout_1 (Dropout)         (None, 4, 4, 4, 64)       0         \n",
      "                                                                 \n",
      " flatten (Flatten)           (None, 4096)              0         \n",
      "                                                                 \n",
      " dense (Dense)               (None, 512)               2097664   \n",
      "                                                                 \n",
      " dropout_2 (Dropout)         (None, 512)               0         \n",
      "                                                                 \n",
      " dense_1 (Dense)             (None, 2)                 1026      \n",
      "                                                                 \n",
      "=================================================================\n",
      "Total params: 2,295,010\n",
      "Trainable params: 0\n",
      "Non-trainable params: 2,295,010\n",
      "_________________________________________________________________\n"
     ]
    }
   ],
   "source": [
    "squat_3dcnnmodel.summary()"
   ]
  },
  {
   "cell_type": "code",
   "execution_count": 7,
   "metadata": {},
   "outputs": [],
   "source": [
    "import numpy as np\n",
    "import cv2\n",
    "\n",
    "\n",
    "class Videoto3D:\n",
    "\n",
    "    def __init__(self, width, height, depth):\n",
    "        self.width = width\n",
    "        self.height = height\n",
    "        self.depth = depth\n",
    "\n",
    "    def video3d(self, filename, color=False, skip=False):\n",
    "        cap = cv2.VideoCapture(filename)\n",
    "        nframe = cap.get(cv2.CAP_PROP_FRAME_COUNT)\n",
    "        if skip:\n",
    "            frames = [x * nframe / self.depth for x in range(self.depth)]\n",
    "        else:\n",
    "            frames = [x for x in range(self.depth)]\n",
    "        framearray = []\n",
    "\n",
    "        for i in range(self.depth):\n",
    "            cap.set(cv2.CAP_PROP_POS_FRAMES, frames[i])\n",
    "            ret, frame = cap.read()\n",
    "            frame = cv2.resize(frame, (self.height, self.width))\n",
    "            if color:\n",
    "                framearray.append(frame)\n",
    "            else:\n",
    "                framearray.append(cv2.cvtColor(frame, cv2.COLOR_BGR2GRAY))\n",
    "\n",
    "        cap.release()\n",
    "        return np.array(framearray)\n",
    "\n",
    "\n",
    "\n",
    "    def get_UCF_classname(self, filename):\n",
    "        return filename[filename.find('_') + 1:filename.find('_', 2)]"
   ]
  },
  {
   "cell_type": "code",
   "execution_count": 8,
   "metadata": {},
   "outputs": [],
   "source": [
    "def loaddata(video_dir, vid3d, nclass, result_dir, color=False, skip=False):\n",
    "    files = os.listdir(video_dir)\n",
    "    print (files)\n",
    "    X = []\n",
    "    labels = []\n",
    "    labellist = []\n",
    "\n",
    "    pbar = tqdm(total=len(files))\n",
    "\n",
    "    for filename in files:\n",
    "        pbar.update(1)\n",
    "        if filename == '.DS_Store':\n",
    "            continue\n",
    "        name = os.path.join(video_dir, filename)\n",
    "        label = vid3d.get_classname(filename)\n",
    "        print(label)\n",
    "        if label not in labellist:\n",
    "            if len(labellist) >= nclass:\n",
    "                continue\n",
    "            labellist.append(label)\n",
    "        labels.append(label)\n",
    "        X.append(vid3d.video3d(name, color=color, skip=skip))\n",
    "\n",
    "    pbar.close()\n",
    "    with open(os.path.join(result_dir, 'classes.txt'), 'w') as fp:\n",
    "        for i in range(len(labellist)):\n",
    "            fp.write('{}\\n'.format(labellist[i]))\n",
    "\n",
    "    for num, label in enumerate(labellist):\n",
    "        for i in range(len(labels)):\n",
    "            if label == labels[i]:\n",
    "                labels[i] = num\n",
    "    if color:\n",
    "        return np.array(X).transpose((0, 2, 3, 4, 1)), labels\n",
    "    else:\n",
    "        return np.array(X).transpose((0, 2, 3, 1)), labels\n"
   ]
  },
  {
   "cell_type": "code",
   "execution_count": 9,
   "metadata": {},
   "outputs": [],
   "source": [
    "from videoto3d_edited import Videoto3D_Edited as vid3d"
   ]
  },
  {
   "cell_type": "code",
   "execution_count": 10,
   "metadata": {},
   "outputs": [],
   "source": [
    "videos = \"/home/mukundan/Desktop/VIII SEM/Data/Test_2_Intermediate/\" #edit the path to yours, these are pose estimation videos\n",
    "\n",
    "img_rows = 32\n",
    "img_cols = 32\n",
    "depth = 30\n",
    "\n",
    "nclass = 2\n",
    "output = \"/home/mukundan/Desktop/VIII SEM/Data/Test_2_Output/\" #edit the path to yours\n",
    "channel = 3\n",
    "color = True\n",
    "skip = False\n",
    "\n",
    "frames = depth\n",
    "nb_classes = nclass\n",
    "\n"
   ]
  },
  {
   "cell_type": "code",
   "execution_count": 11,
   "metadata": {},
   "outputs": [
    {
     "name": "stdout",
     "output_type": "stream",
     "text": [
      "['bf_27-03-03-10-43-09.mp4', 'bf_6-03-03-06-21-12.mp4', 'bf_18-03-03-10-43-09.mp4', 'bf_19-03-02-23-41-09.mp4', 'bf_37-03-03-14-53-57.mp4', 'gf_12-03-02-23-41-09.mp4', 'gf_23-03-02-23-41-09.mp4', 'gf_19-03-02-23-41-09.mp4', 'bf_28-03-02-23-41-09.mp4', 'bf_3-03-02-23-41-09.mp4', 'bf_12-03-03-06-21-12.mp4', 'bf_14-03-02-23-41-09.mp4', 'bf_21-03-03-10-43-09.mp4', 'bf_26-03-03-10-43-09.mp4', 'gf_14-03-03-14-53-57.mp4', 'gf_24-03-03-06-21-12.mp4', 'gf_25-03-03-14-53-57.mp4', 'gf_1-03-03-06-21-12.mp4', 'bf_5-03-02-23-41-09.mp4', 'bf_40-03-03-06-21-12.mp4', 'gf_26-03-02-23-41-09.mp4', 'bf_29-03-03-10-43-09.mp4', 'gf_10-03-03-10-43-09.mp4', 'gf_9-03-03-10-43-09.mp4', 'bf_22-03-02-23-41-09.mp4', 'gf_17-03-02-23-41-09.mp4', 'gf_6-03-03-06-21-12.mp4', 'bf_25-03-03-14-53-57.mp4', 'gf_13-03-03-06-21-12.mp4', 'bf_33-03-03-14-53-57.mp4', 'gf_16-03-02-23-41-09.mp4', 'bf_20-03-03-10-43-09.mp4', 'bf_9-03-03-06-21-12.mp4', 'bf_36-03-03-06-21-12.mp4', 'gf_18-03-03-06-21-12.mp4', 'bf_15-03-03-06-21-12.mp4', 'gf_22-03-03-06-21-12.mp4', 'bf_23-03-02-23-41-09.mp4', 'bf_31-03-03-10-43-09.mp4', 'bf_39-03-03-06-21-12.mp4', 'bf_35-03-03-06-21-12.mp4', 'bf_7-03-03-10-43-09.mp4', 'bf_32-03-03-10-43-09.mp4', 'bf_38-03-02-23-41-09.mp4', 'gf_20-03-02-23-41-09.mp4', 'gf_15-03-02-23-41-09.mp4', 'bf_2-03-02-23-41-09.mp4', 'bf_1-03-02-23-41-09.mp4', 'gf_11-03-03-10-43-09.mp4', 'bf_11-03-03-10-43-09.mp4', 'gf_8-03-03-14-53-57.mp4', 'bf_17-03-03-14-53-57.mp4', 'bf_10-03-03-10-43-09.mp4', 'gf_2-03-02-23-41-09.mp4', 'bf_16-03-03-06-21-12.mp4', 'bf_4-03-02-23-41-09.mp4', 'gf_3-03-02-23-41-09.mp4', 'bf_30-03-03-14-53-57.mp4', 'gf_21-03-02-23-41-09.mp4', 'bf_34-03-03-06-21-12.mp4', 'bf_13-03-03-06-21-12.mp4', 'gf_4-03-03-10-43-09.mp4', 'gf_5-03-03-10-43-09.mp4', 'bf_24-03-02-23-41-09.mp4', 'gf_7-03-03-06-21-12.mp4', 'bf_8-03-03-10-43-09.mp4']\n"
     ]
    },
    {
     "name": "stderr",
     "output_type": "stream",
     "text": [
      "  0%|          | 0/66 [00:00<?, ?it/s]"
     ]
    },
    {
     "name": "stdout",
     "output_type": "stream",
     "text": [
      "bf\n"
     ]
    },
    {
     "name": "stderr",
     "output_type": "stream",
     "text": [
      "  3%|▎         | 2/66 [00:02<01:26,  1.36s/it]"
     ]
    },
    {
     "name": "stdout",
     "output_type": "stream",
     "text": [
      "bf\n"
     ]
    },
    {
     "name": "stderr",
     "output_type": "stream",
     "text": [
      "  5%|▍         | 3/66 [00:04<01:37,  1.55s/it]"
     ]
    },
    {
     "name": "stdout",
     "output_type": "stream",
     "text": [
      "bf\n"
     ]
    },
    {
     "name": "stderr",
     "output_type": "stream",
     "text": [
      "  6%|▌         | 4/66 [00:05<01:27,  1.42s/it]"
     ]
    },
    {
     "name": "stdout",
     "output_type": "stream",
     "text": [
      "bf\n"
     ]
    },
    {
     "name": "stderr",
     "output_type": "stream",
     "text": [
      "  8%|▊         | 5/66 [00:06<01:21,  1.34s/it]"
     ]
    },
    {
     "name": "stdout",
     "output_type": "stream",
     "text": [
      "bf\n"
     ]
    },
    {
     "name": "stderr",
     "output_type": "stream",
     "text": [
      "  9%|▉         | 6/66 [00:08<01:21,  1.36s/it]"
     ]
    },
    {
     "name": "stdout",
     "output_type": "stream",
     "text": [
      "gf\n"
     ]
    },
    {
     "name": "stderr",
     "output_type": "stream",
     "text": [
      " 11%|█         | 7/66 [00:09<01:24,  1.43s/it]"
     ]
    },
    {
     "name": "stdout",
     "output_type": "stream",
     "text": [
      "gf\n"
     ]
    },
    {
     "name": "stderr",
     "output_type": "stream",
     "text": [
      " 12%|█▏        | 8/66 [00:11<01:33,  1.62s/it]"
     ]
    },
    {
     "name": "stdout",
     "output_type": "stream",
     "text": [
      "gf\n"
     ]
    },
    {
     "name": "stderr",
     "output_type": "stream",
     "text": [
      " 14%|█▎        | 9/66 [00:12<01:22,  1.45s/it]"
     ]
    },
    {
     "name": "stdout",
     "output_type": "stream",
     "text": [
      "bf\n"
     ]
    },
    {
     "name": "stderr",
     "output_type": "stream",
     "text": [
      " 15%|█▌        | 10/66 [00:14<01:15,  1.35s/it]"
     ]
    },
    {
     "name": "stdout",
     "output_type": "stream",
     "text": [
      "bf\n"
     ]
    },
    {
     "name": "stderr",
     "output_type": "stream",
     "text": [
      " 17%|█▋        | 11/66 [00:15<01:10,  1.28s/it]"
     ]
    },
    {
     "name": "stdout",
     "output_type": "stream",
     "text": [
      "bf\n"
     ]
    },
    {
     "name": "stderr",
     "output_type": "stream",
     "text": [
      " 18%|█▊        | 12/66 [00:16<01:09,  1.28s/it]"
     ]
    },
    {
     "name": "stdout",
     "output_type": "stream",
     "text": [
      "bf\n"
     ]
    },
    {
     "name": "stderr",
     "output_type": "stream",
     "text": [
      " 20%|█▉        | 13/66 [00:18<01:15,  1.43s/it]"
     ]
    },
    {
     "name": "stdout",
     "output_type": "stream",
     "text": [
      "bf\n"
     ]
    },
    {
     "name": "stderr",
     "output_type": "stream",
     "text": [
      " 21%|██        | 14/66 [00:19<01:08,  1.32s/it]"
     ]
    },
    {
     "name": "stdout",
     "output_type": "stream",
     "text": [
      "bf\n"
     ]
    },
    {
     "name": "stderr",
     "output_type": "stream",
     "text": [
      " 23%|██▎       | 15/66 [00:20<01:03,  1.24s/it]"
     ]
    },
    {
     "name": "stdout",
     "output_type": "stream",
     "text": [
      "gf\n"
     ]
    },
    {
     "name": "stderr",
     "output_type": "stream",
     "text": [
      " 24%|██▍       | 16/66 [00:21<01:01,  1.24s/it]"
     ]
    },
    {
     "name": "stdout",
     "output_type": "stream",
     "text": [
      "gf\n"
     ]
    },
    {
     "name": "stderr",
     "output_type": "stream",
     "text": [
      " 26%|██▌       | 17/66 [00:22<00:59,  1.22s/it]"
     ]
    },
    {
     "name": "stdout",
     "output_type": "stream",
     "text": [
      "gf\n"
     ]
    },
    {
     "name": "stderr",
     "output_type": "stream",
     "text": [
      " 27%|██▋       | 18/66 [00:23<00:54,  1.15s/it]"
     ]
    },
    {
     "name": "stdout",
     "output_type": "stream",
     "text": [
      "gf\n"
     ]
    },
    {
     "name": "stderr",
     "output_type": "stream",
     "text": [
      " 29%|██▉       | 19/66 [00:24<00:53,  1.14s/it]"
     ]
    },
    {
     "name": "stdout",
     "output_type": "stream",
     "text": [
      "bf\n"
     ]
    },
    {
     "name": "stderr",
     "output_type": "stream",
     "text": [
      " 30%|███       | 20/66 [00:26<00:53,  1.16s/it]"
     ]
    },
    {
     "name": "stdout",
     "output_type": "stream",
     "text": [
      "bf\n"
     ]
    },
    {
     "name": "stderr",
     "output_type": "stream",
     "text": [
      " 32%|███▏      | 21/66 [00:27<00:56,  1.25s/it]"
     ]
    },
    {
     "name": "stdout",
     "output_type": "stream",
     "text": [
      "gf\n"
     ]
    },
    {
     "name": "stderr",
     "output_type": "stream",
     "text": [
      " 33%|███▎      | 22/66 [00:28<00:53,  1.21s/it]"
     ]
    },
    {
     "name": "stdout",
     "output_type": "stream",
     "text": [
      "bf\n"
     ]
    },
    {
     "name": "stderr",
     "output_type": "stream",
     "text": [
      " 35%|███▍      | 23/66 [00:29<00:48,  1.13s/it]"
     ]
    },
    {
     "name": "stdout",
     "output_type": "stream",
     "text": [
      "gf\n"
     ]
    },
    {
     "name": "stderr",
     "output_type": "stream",
     "text": [
      " 36%|███▋      | 24/66 [00:30<00:45,  1.08s/it]"
     ]
    },
    {
     "name": "stdout",
     "output_type": "stream",
     "text": [
      "gf\n"
     ]
    },
    {
     "name": "stderr",
     "output_type": "stream",
     "text": [
      " 38%|███▊      | 25/66 [00:31<00:43,  1.06s/it]"
     ]
    },
    {
     "name": "stdout",
     "output_type": "stream",
     "text": [
      "bf\n"
     ]
    },
    {
     "name": "stderr",
     "output_type": "stream",
     "text": [
      " 39%|███▉      | 26/66 [00:32<00:44,  1.10s/it]"
     ]
    },
    {
     "name": "stdout",
     "output_type": "stream",
     "text": [
      "gf\n"
     ]
    },
    {
     "name": "stderr",
     "output_type": "stream",
     "text": [
      " 41%|████      | 27/66 [00:33<00:41,  1.08s/it]"
     ]
    },
    {
     "name": "stdout",
     "output_type": "stream",
     "text": [
      "gf\n"
     ]
    },
    {
     "name": "stderr",
     "output_type": "stream",
     "text": [
      " 42%|████▏     | 28/66 [00:34<00:38,  1.01s/it]"
     ]
    },
    {
     "name": "stdout",
     "output_type": "stream",
     "text": [
      "bf\n"
     ]
    },
    {
     "name": "stderr",
     "output_type": "stream",
     "text": [
      " 44%|████▍     | 29/66 [00:35<00:37,  1.01s/it]"
     ]
    },
    {
     "name": "stdout",
     "output_type": "stream",
     "text": [
      "gf\n"
     ]
    },
    {
     "name": "stderr",
     "output_type": "stream",
     "text": [
      " 45%|████▌     | 30/66 [00:37<00:40,  1.13s/it]"
     ]
    },
    {
     "name": "stdout",
     "output_type": "stream",
     "text": [
      "bf\n"
     ]
    },
    {
     "name": "stderr",
     "output_type": "stream",
     "text": [
      " 47%|████▋     | 31/66 [00:38<00:37,  1.08s/it]"
     ]
    },
    {
     "name": "stdout",
     "output_type": "stream",
     "text": [
      "gf\n"
     ]
    },
    {
     "name": "stderr",
     "output_type": "stream",
     "text": [
      " 48%|████▊     | 32/66 [00:39<00:37,  1.10s/it]"
     ]
    },
    {
     "name": "stdout",
     "output_type": "stream",
     "text": [
      "bf\n"
     ]
    },
    {
     "name": "stderr",
     "output_type": "stream",
     "text": [
      " 50%|█████     | 33/66 [00:40<00:36,  1.10s/it]"
     ]
    },
    {
     "name": "stdout",
     "output_type": "stream",
     "text": [
      "bf\n"
     ]
    },
    {
     "name": "stderr",
     "output_type": "stream",
     "text": [
      " 52%|█████▏    | 34/66 [00:41<00:36,  1.14s/it]"
     ]
    },
    {
     "name": "stdout",
     "output_type": "stream",
     "text": [
      "bf\n"
     ]
    },
    {
     "name": "stderr",
     "output_type": "stream",
     "text": [
      " 53%|█████▎    | 35/66 [00:42<00:35,  1.15s/it]"
     ]
    },
    {
     "name": "stdout",
     "output_type": "stream",
     "text": [
      "gf\n"
     ]
    },
    {
     "name": "stderr",
     "output_type": "stream",
     "text": [
      " 55%|█████▍    | 36/66 [00:43<00:32,  1.10s/it]"
     ]
    },
    {
     "name": "stdout",
     "output_type": "stream",
     "text": [
      "bf\n"
     ]
    },
    {
     "name": "stderr",
     "output_type": "stream",
     "text": [
      " 56%|█████▌    | 37/66 [00:44<00:30,  1.05s/it]"
     ]
    },
    {
     "name": "stdout",
     "output_type": "stream",
     "text": [
      "gf\n"
     ]
    },
    {
     "name": "stderr",
     "output_type": "stream",
     "text": [
      " 58%|█████▊    | 38/66 [00:45<00:31,  1.12s/it]"
     ]
    },
    {
     "name": "stdout",
     "output_type": "stream",
     "text": [
      "bf\n"
     ]
    },
    {
     "name": "stderr",
     "output_type": "stream",
     "text": [
      " 59%|█████▉    | 39/66 [00:47<00:32,  1.19s/it]"
     ]
    },
    {
     "name": "stdout",
     "output_type": "stream",
     "text": [
      "bf\n"
     ]
    },
    {
     "name": "stderr",
     "output_type": "stream",
     "text": [
      " 61%|██████    | 40/66 [00:48<00:32,  1.24s/it]"
     ]
    },
    {
     "name": "stdout",
     "output_type": "stream",
     "text": [
      "bf\n"
     ]
    },
    {
     "name": "stderr",
     "output_type": "stream",
     "text": [
      " 62%|██████▏   | 41/66 [00:50<00:31,  1.28s/it]"
     ]
    },
    {
     "name": "stdout",
     "output_type": "stream",
     "text": [
      "bf\n"
     ]
    },
    {
     "name": "stderr",
     "output_type": "stream",
     "text": [
      " 64%|██████▎   | 42/66 [00:51<00:31,  1.32s/it]"
     ]
    },
    {
     "name": "stdout",
     "output_type": "stream",
     "text": [
      "bf\n"
     ]
    },
    {
     "name": "stderr",
     "output_type": "stream",
     "text": [
      " 65%|██████▌   | 43/66 [00:52<00:29,  1.29s/it]"
     ]
    },
    {
     "name": "stdout",
     "output_type": "stream",
     "text": [
      "bf\n"
     ]
    },
    {
     "name": "stderr",
     "output_type": "stream",
     "text": [
      " 67%|██████▋   | 44/66 [00:53<00:26,  1.20s/it]"
     ]
    },
    {
     "name": "stdout",
     "output_type": "stream",
     "text": [
      "bf\n"
     ]
    },
    {
     "name": "stderr",
     "output_type": "stream",
     "text": [
      " 68%|██████▊   | 45/66 [00:54<00:24,  1.17s/it]"
     ]
    },
    {
     "name": "stdout",
     "output_type": "stream",
     "text": [
      "gf\n"
     ]
    },
    {
     "name": "stderr",
     "output_type": "stream",
     "text": [
      " 70%|██████▉   | 46/66 [00:56<00:23,  1.20s/it]"
     ]
    },
    {
     "name": "stdout",
     "output_type": "stream",
     "text": [
      "gf\n"
     ]
    },
    {
     "name": "stderr",
     "output_type": "stream",
     "text": [
      " 71%|███████   | 47/66 [00:57<00:25,  1.35s/it]"
     ]
    },
    {
     "name": "stdout",
     "output_type": "stream",
     "text": [
      "bf\n"
     ]
    },
    {
     "name": "stderr",
     "output_type": "stream",
     "text": [
      " 73%|███████▎  | 48/66 [00:58<00:22,  1.27s/it]"
     ]
    },
    {
     "name": "stdout",
     "output_type": "stream",
     "text": [
      "bf\n"
     ]
    },
    {
     "name": "stderr",
     "output_type": "stream",
     "text": [
      " 74%|███████▍  | 49/66 [00:59<00:19,  1.18s/it]"
     ]
    },
    {
     "name": "stdout",
     "output_type": "stream",
     "text": [
      "gf\n"
     ]
    },
    {
     "name": "stderr",
     "output_type": "stream",
     "text": [
      " 76%|███████▌  | 50/66 [01:00<00:17,  1.11s/it]"
     ]
    },
    {
     "name": "stdout",
     "output_type": "stream",
     "text": [
      "bf\n"
     ]
    },
    {
     "name": "stderr",
     "output_type": "stream",
     "text": [
      " 77%|███████▋  | 51/66 [01:01<00:16,  1.13s/it]"
     ]
    },
    {
     "name": "stdout",
     "output_type": "stream",
     "text": [
      "gf\n"
     ]
    },
    {
     "name": "stderr",
     "output_type": "stream",
     "text": [
      " 79%|███████▉  | 52/66 [01:02<00:15,  1.12s/it]"
     ]
    },
    {
     "name": "stdout",
     "output_type": "stream",
     "text": [
      "bf\n"
     ]
    },
    {
     "name": "stderr",
     "output_type": "stream",
     "text": [
      " 80%|████████  | 53/66 [01:03<00:13,  1.06s/it]"
     ]
    },
    {
     "name": "stdout",
     "output_type": "stream",
     "text": [
      "bf\n"
     ]
    },
    {
     "name": "stderr",
     "output_type": "stream",
     "text": [
      " 82%|████████▏ | 54/66 [01:04<00:12,  1.06s/it]"
     ]
    },
    {
     "name": "stdout",
     "output_type": "stream",
     "text": [
      "gf\n"
     ]
    },
    {
     "name": "stderr",
     "output_type": "stream",
     "text": [
      " 83%|████████▎ | 55/66 [01:06<00:11,  1.07s/it]"
     ]
    },
    {
     "name": "stdout",
     "output_type": "stream",
     "text": [
      "bf\n"
     ]
    },
    {
     "name": "stderr",
     "output_type": "stream",
     "text": [
      " 85%|████████▍ | 56/66 [01:07<00:10,  1.03s/it]"
     ]
    },
    {
     "name": "stdout",
     "output_type": "stream",
     "text": [
      "bf\n"
     ]
    },
    {
     "name": "stderr",
     "output_type": "stream",
     "text": [
      " 86%|████████▋ | 57/66 [01:08<00:09,  1.11s/it]"
     ]
    },
    {
     "name": "stdout",
     "output_type": "stream",
     "text": [
      "gf\n"
     ]
    },
    {
     "name": "stderr",
     "output_type": "stream",
     "text": [
      " 88%|████████▊ | 58/66 [01:09<00:09,  1.13s/it]"
     ]
    },
    {
     "name": "stdout",
     "output_type": "stream",
     "text": [
      "bf\n"
     ]
    },
    {
     "name": "stderr",
     "output_type": "stream",
     "text": [
      " 89%|████████▉ | 59/66 [01:10<00:07,  1.12s/it]"
     ]
    },
    {
     "name": "stdout",
     "output_type": "stream",
     "text": [
      "gf\n"
     ]
    },
    {
     "name": "stderr",
     "output_type": "stream",
     "text": [
      " 91%|█████████ | 60/66 [01:11<00:07,  1.20s/it]"
     ]
    },
    {
     "name": "stdout",
     "output_type": "stream",
     "text": [
      "bf\n"
     ]
    },
    {
     "name": "stderr",
     "output_type": "stream",
     "text": [
      " 92%|█████████▏| 61/66 [01:13<00:06,  1.24s/it]"
     ]
    },
    {
     "name": "stdout",
     "output_type": "stream",
     "text": [
      "bf\n"
     ]
    },
    {
     "name": "stderr",
     "output_type": "stream",
     "text": [
      " 94%|█████████▍| 62/66 [01:14<00:04,  1.21s/it]"
     ]
    },
    {
     "name": "stdout",
     "output_type": "stream",
     "text": [
      "gf\n"
     ]
    },
    {
     "name": "stderr",
     "output_type": "stream",
     "text": [
      " 95%|█████████▌| 63/66 [01:15<00:03,  1.16s/it]"
     ]
    },
    {
     "name": "stdout",
     "output_type": "stream",
     "text": [
      "gf\n"
     ]
    },
    {
     "name": "stderr",
     "output_type": "stream",
     "text": [
      " 97%|█████████▋| 64/66 [01:16<00:02,  1.17s/it]"
     ]
    },
    {
     "name": "stdout",
     "output_type": "stream",
     "text": [
      "bf\n"
     ]
    },
    {
     "name": "stderr",
     "output_type": "stream",
     "text": [
      " 98%|█████████▊| 65/66 [01:17<00:01,  1.14s/it]"
     ]
    },
    {
     "name": "stdout",
     "output_type": "stream",
     "text": [
      "gf\n"
     ]
    },
    {
     "name": "stderr",
     "output_type": "stream",
     "text": [
      "100%|██████████| 66/66 [01:18<00:00,  1.11s/it]"
     ]
    },
    {
     "name": "stdout",
     "output_type": "stream",
     "text": [
      "bf\n"
     ]
    },
    {
     "name": "stderr",
     "output_type": "stream",
     "text": [
      "100%|██████████| 66/66 [01:20<00:00,  1.21s/it]\n"
     ]
    },
    {
     "name": "stdout",
     "output_type": "stream",
     "text": [
      "66\n"
     ]
    }
   ],
   "source": [
    "x, y = loaddata(videos, vid3d(img_rows, img_cols, frames), nclass, output, color, skip)\n",
    "print(len(x))\n",
    "X = x.reshape((x.shape[0], img_rows, img_cols, frames, channel))\n",
    "Y = to_categorical(y, nb_classes)\n",
    "\n",
    "X = X.astype('float32')"
   ]
  },
  {
   "cell_type": "code",
   "execution_count": 12,
   "metadata": {},
   "outputs": [
    {
     "name": "stdout",
     "output_type": "stream",
     "text": [
      "['bf_27-03-03-10-43-09.mp4', 'bf_6-03-03-06-21-12.mp4', 'bf_18-03-03-10-43-09.mp4', 'bf_19-03-02-23-41-09.mp4', 'bf_37-03-03-14-53-57.mp4', 'gf_12-03-02-23-41-09.mp4', 'gf_23-03-02-23-41-09.mp4', 'gf_19-03-02-23-41-09.mp4', 'bf_28-03-02-23-41-09.mp4', 'bf_3-03-02-23-41-09.mp4', 'bf_12-03-03-06-21-12.mp4', 'bf_14-03-02-23-41-09.mp4', 'bf_21-03-03-10-43-09.mp4', 'bf_26-03-03-10-43-09.mp4', 'gf_14-03-03-14-53-57.mp4', 'gf_24-03-03-06-21-12.mp4', 'gf_25-03-03-14-53-57.mp4', 'gf_1-03-03-06-21-12.mp4', 'bf_5-03-02-23-41-09.mp4', 'bf_40-03-03-06-21-12.mp4', 'gf_26-03-02-23-41-09.mp4', 'bf_29-03-03-10-43-09.mp4', 'gf_10-03-03-10-43-09.mp4', 'gf_9-03-03-10-43-09.mp4', 'bf_22-03-02-23-41-09.mp4', 'gf_17-03-02-23-41-09.mp4', 'gf_6-03-03-06-21-12.mp4', 'bf_25-03-03-14-53-57.mp4', 'gf_13-03-03-06-21-12.mp4', 'bf_33-03-03-14-53-57.mp4', 'gf_16-03-02-23-41-09.mp4', 'bf_20-03-03-10-43-09.mp4', 'bf_9-03-03-06-21-12.mp4', 'bf_36-03-03-06-21-12.mp4', 'gf_18-03-03-06-21-12.mp4', 'bf_15-03-03-06-21-12.mp4', 'gf_22-03-03-06-21-12.mp4', 'bf_23-03-02-23-41-09.mp4', 'bf_31-03-03-10-43-09.mp4', 'bf_39-03-03-06-21-12.mp4', 'bf_35-03-03-06-21-12.mp4', 'bf_7-03-03-10-43-09.mp4', 'bf_32-03-03-10-43-09.mp4', 'bf_38-03-02-23-41-09.mp4', 'gf_20-03-02-23-41-09.mp4', 'gf_15-03-02-23-41-09.mp4', 'bf_2-03-02-23-41-09.mp4', 'bf_1-03-02-23-41-09.mp4', 'gf_11-03-03-10-43-09.mp4', 'bf_11-03-03-10-43-09.mp4', 'gf_8-03-03-14-53-57.mp4', 'bf_17-03-03-14-53-57.mp4', 'bf_10-03-03-10-43-09.mp4', 'gf_2-03-02-23-41-09.mp4', 'bf_16-03-03-06-21-12.mp4', 'bf_4-03-02-23-41-09.mp4', 'gf_3-03-02-23-41-09.mp4', 'bf_30-03-03-14-53-57.mp4', 'gf_21-03-02-23-41-09.mp4', 'bf_34-03-03-06-21-12.mp4', 'bf_13-03-03-06-21-12.mp4', 'gf_4-03-03-10-43-09.mp4', 'gf_5-03-03-10-43-09.mp4', 'bf_24-03-02-23-41-09.mp4', 'gf_7-03-03-06-21-12.mp4', 'bf_8-03-03-10-43-09.mp4']\n",
      "66\n"
     ]
    },
    {
     "name": "stderr",
     "output_type": "stream",
     "text": [
      "2023-03-04 12:39:33.590849: W tensorflow/tsl/framework/cpu_allocator_impl.cc:82] Allocation of 24330240 exceeds 10% of free system memory.\n",
      "2023-03-04 12:39:34.434054: W tensorflow/tsl/framework/cpu_allocator_impl.cc:82] Allocation of 24330240 exceeds 10% of free system memory.\n",
      "2023-03-04 12:39:47.248913: I tensorflow/compiler/xla/stream_executor/cuda/cuda_dnn.cc:428] Loaded cuDNN version 8100\n"
     ]
    },
    {
     "name": "stdout",
     "output_type": "stream",
     "text": [
      "3/3 [==============================] - 33s 100ms/step\n"
     ]
    }
   ],
   "source": [
    "files = os.listdir(\"/home/mukundan/Desktop/VIII SEM/Data/Test_2_Intermediate/\") #edit the path to yours\n",
    "print(files)\n",
    "print(len(files))\n",
    "y_pred = squat_3dcnnmodel.predict(X)\n"
   ]
  },
  {
   "cell_type": "code",
   "execution_count": 34,
   "metadata": {},
   "outputs": [
    {
     "data": {
      "text/html": [
       "<div>\n",
       "<style scoped>\n",
       "    .dataframe tbody tr th:only-of-type {\n",
       "        vertical-align: middle;\n",
       "    }\n",
       "\n",
       "    .dataframe tbody tr th {\n",
       "        vertical-align: top;\n",
       "    }\n",
       "\n",
       "    .dataframe thead th {\n",
       "        text-align: right;\n",
       "    }\n",
       "</style>\n",
       "<table border=\"1\" class=\"dataframe\">\n",
       "  <thead>\n",
       "    <tr style=\"text-align: right;\">\n",
       "      <th></th>\n",
       "      <th>bf</th>\n",
       "      <th>gf</th>\n",
       "    </tr>\n",
       "  </thead>\n",
       "  <tbody>\n",
       "    <tr>\n",
       "      <th>bf_27-03-03-10-43-09.mp4</th>\n",
       "      <td>0.000441</td>\n",
       "      <td>0.999559</td>\n",
       "    </tr>\n",
       "    <tr>\n",
       "      <th>bf_6-03-03-06-21-12.mp4</th>\n",
       "      <td>0.012288</td>\n",
       "      <td>0.987712</td>\n",
       "    </tr>\n",
       "    <tr>\n",
       "      <th>bf_18-03-03-10-43-09.mp4</th>\n",
       "      <td>0.012675</td>\n",
       "      <td>0.987325</td>\n",
       "    </tr>\n",
       "    <tr>\n",
       "      <th>bf_19-03-02-23-41-09.mp4</th>\n",
       "      <td>0.496419</td>\n",
       "      <td>0.503581</td>\n",
       "    </tr>\n",
       "    <tr>\n",
       "      <th>bf_37-03-03-14-53-57.mp4</th>\n",
       "      <td>0.331669</td>\n",
       "      <td>0.668331</td>\n",
       "    </tr>\n",
       "    <tr>\n",
       "      <th>...</th>\n",
       "      <td>...</td>\n",
       "      <td>...</td>\n",
       "    </tr>\n",
       "    <tr>\n",
       "      <th>gf_4-03-03-10-43-09.mp4</th>\n",
       "      <td>0.041747</td>\n",
       "      <td>0.958253</td>\n",
       "    </tr>\n",
       "    <tr>\n",
       "      <th>gf_5-03-03-10-43-09.mp4</th>\n",
       "      <td>0.016271</td>\n",
       "      <td>0.983729</td>\n",
       "    </tr>\n",
       "    <tr>\n",
       "      <th>bf_24-03-02-23-41-09.mp4</th>\n",
       "      <td>0.050186</td>\n",
       "      <td>0.949814</td>\n",
       "    </tr>\n",
       "    <tr>\n",
       "      <th>gf_7-03-03-06-21-12.mp4</th>\n",
       "      <td>0.276860</td>\n",
       "      <td>0.723140</td>\n",
       "    </tr>\n",
       "    <tr>\n",
       "      <th>bf_8-03-03-10-43-09.mp4</th>\n",
       "      <td>0.707297</td>\n",
       "      <td>0.292703</td>\n",
       "    </tr>\n",
       "  </tbody>\n",
       "</table>\n",
       "<p>66 rows × 2 columns</p>\n",
       "</div>"
      ],
      "text/plain": [
       "                                bf        gf\n",
       "bf_27-03-03-10-43-09.mp4  0.000441  0.999559\n",
       "bf_6-03-03-06-21-12.mp4   0.012288  0.987712\n",
       "bf_18-03-03-10-43-09.mp4  0.012675  0.987325\n",
       "bf_19-03-02-23-41-09.mp4  0.496419  0.503581\n",
       "bf_37-03-03-14-53-57.mp4  0.331669  0.668331\n",
       "...                            ...       ...\n",
       "gf_4-03-03-10-43-09.mp4   0.041747  0.958253\n",
       "gf_5-03-03-10-43-09.mp4   0.016271  0.983729\n",
       "bf_24-03-02-23-41-09.mp4  0.050186  0.949814\n",
       "gf_7-03-03-06-21-12.mp4   0.276860  0.723140\n",
       "bf_8-03-03-10-43-09.mp4   0.707297  0.292703\n",
       "\n",
       "[66 rows x 2 columns]"
      ]
     },
     "execution_count": 34,
     "metadata": {},
     "output_type": "execute_result"
    }
   ],
   "source": [
    "df = pd.DataFrame(data=y_pred, index=files, columns = ['bf', 'gf'])\n",
    "df"
   ]
  },
  {
   "cell_type": "code",
   "execution_count": 14,
   "metadata": {},
   "outputs": [],
   "source": [
    "def plot_confusion_matrix(cm, classes,\n",
    "                          normalize=False,\n",
    "                          title='Confusion matrix',\n",
    "                          cmap=plt.cm.Blues):\n",
    "    \"\"\"\n",
    "    This function prints and plots the confusion matrix.\n",
    "    Normalization can be applied by setting `normalize=True`.\n",
    "    \"\"\"\n",
    "    if normalize:\n",
    "        cm = cm.astype('float') / cm.sum(axis=1)[:, np.newaxis]\n",
    "        print(\"Normalized confusion matrix\")\n",
    "    else:\n",
    "        print('Confusion matrix, without normalization')\n",
    "\n",
    "    print(cm)\n",
    "\n",
    "    plt.imshow(cm, interpolation='nearest', cmap=cmap)\n",
    "    plt.title(title)\n",
    "    plt.colorbar()\n",
    "    tick_marks = np.arange(len(classes))\n",
    "    plt.xticks(tick_marks, classes, rotation=45)\n",
    "    plt.yticks(tick_marks, classes)\n",
    "\n",
    "    fmt = '.2f' if normalize else 'd'\n",
    "    thresh = cm.max() / 2.\n",
    "    for i, j in itertools.product(range(cm.shape[0]), range(cm.shape[1])):\n",
    "        plt.text(j, i, format(cm[i, j], fmt),\n",
    "                 horizontalalignment=\"center\",\n",
    "                 color=\"white\" if cm[i, j] > thresh else \"black\")\n",
    "\n",
    "    plt.ylabel('True label')\n",
    "    plt.xlabel('Predicted label')\n",
    "    plt.tight_layout()"
   ]
  },
  {
   "cell_type": "code",
   "execution_count": 15,
   "metadata": {},
   "outputs": [
    {
     "data": {
      "text/html": [
       "<div>\n",
       "<style scoped>\n",
       "    .dataframe tbody tr th:only-of-type {\n",
       "        vertical-align: middle;\n",
       "    }\n",
       "\n",
       "    .dataframe tbody tr th {\n",
       "        vertical-align: top;\n",
       "    }\n",
       "\n",
       "    .dataframe thead th {\n",
       "        text-align: right;\n",
       "    }\n",
       "</style>\n",
       "<table border=\"1\" class=\"dataframe\">\n",
       "  <thead>\n",
       "    <tr style=\"text-align: right;\">\n",
       "      <th></th>\n",
       "      <th>bf</th>\n",
       "      <th>gf</th>\n",
       "      <th>id</th>\n",
       "    </tr>\n",
       "  </thead>\n",
       "  <tbody>\n",
       "    <tr>\n",
       "      <th>bf_27-03-03-10-43-09.mp4</th>\n",
       "      <td>0.0</td>\n",
       "      <td>1.0</td>\n",
       "      <td>gf</td>\n",
       "    </tr>\n",
       "    <tr>\n",
       "      <th>bf_6-03-03-06-21-12.mp4</th>\n",
       "      <td>0.0</td>\n",
       "      <td>1.0</td>\n",
       "      <td>gf</td>\n",
       "    </tr>\n",
       "    <tr>\n",
       "      <th>bf_18-03-03-10-43-09.mp4</th>\n",
       "      <td>0.0</td>\n",
       "      <td>1.0</td>\n",
       "      <td>gf</td>\n",
       "    </tr>\n",
       "    <tr>\n",
       "      <th>bf_19-03-02-23-41-09.mp4</th>\n",
       "      <td>0.0</td>\n",
       "      <td>1.0</td>\n",
       "      <td>gf</td>\n",
       "    </tr>\n",
       "    <tr>\n",
       "      <th>bf_37-03-03-14-53-57.mp4</th>\n",
       "      <td>0.0</td>\n",
       "      <td>1.0</td>\n",
       "      <td>gf</td>\n",
       "    </tr>\n",
       "    <tr>\n",
       "      <th>...</th>\n",
       "      <td>...</td>\n",
       "      <td>...</td>\n",
       "      <td>...</td>\n",
       "    </tr>\n",
       "    <tr>\n",
       "      <th>gf_4-03-03-10-43-09.mp4</th>\n",
       "      <td>0.0</td>\n",
       "      <td>1.0</td>\n",
       "      <td>gf</td>\n",
       "    </tr>\n",
       "    <tr>\n",
       "      <th>gf_5-03-03-10-43-09.mp4</th>\n",
       "      <td>0.0</td>\n",
       "      <td>1.0</td>\n",
       "      <td>gf</td>\n",
       "    </tr>\n",
       "    <tr>\n",
       "      <th>bf_24-03-02-23-41-09.mp4</th>\n",
       "      <td>0.0</td>\n",
       "      <td>1.0</td>\n",
       "      <td>gf</td>\n",
       "    </tr>\n",
       "    <tr>\n",
       "      <th>gf_7-03-03-06-21-12.mp4</th>\n",
       "      <td>0.0</td>\n",
       "      <td>1.0</td>\n",
       "      <td>gf</td>\n",
       "    </tr>\n",
       "    <tr>\n",
       "      <th>bf_8-03-03-10-43-09.mp4</th>\n",
       "      <td>1.0</td>\n",
       "      <td>0.0</td>\n",
       "      <td>bf</td>\n",
       "    </tr>\n",
       "  </tbody>\n",
       "</table>\n",
       "<p>66 rows × 3 columns</p>\n",
       "</div>"
      ],
      "text/plain": [
       "                           bf   gf  id\n",
       "bf_27-03-03-10-43-09.mp4  0.0  1.0  gf\n",
       "bf_6-03-03-06-21-12.mp4   0.0  1.0  gf\n",
       "bf_18-03-03-10-43-09.mp4  0.0  1.0  gf\n",
       "bf_19-03-02-23-41-09.mp4  0.0  1.0  gf\n",
       "bf_37-03-03-14-53-57.mp4  0.0  1.0  gf\n",
       "...                       ...  ...  ..\n",
       "gf_4-03-03-10-43-09.mp4   0.0  1.0  gf\n",
       "gf_5-03-03-10-43-09.mp4   0.0  1.0  gf\n",
       "bf_24-03-02-23-41-09.mp4  0.0  1.0  gf\n",
       "gf_7-03-03-06-21-12.mp4   0.0  1.0  gf\n",
       "bf_8-03-03-10-43-09.mp4   1.0  0.0  bf\n",
       "\n",
       "[66 rows x 3 columns]"
      ]
     },
     "execution_count": 15,
     "metadata": {},
     "output_type": "execute_result"
    }
   ],
   "source": [
    "df = np.round(df)\n",
    "df['id'] = (df.iloc[:,:] == 1).idxmax(1)\n",
    "df"
   ]
  },
  {
   "cell_type": "code",
   "execution_count": 16,
   "metadata": {},
   "outputs": [
    {
     "data": {
      "text/html": [
       "<div>\n",
       "<style scoped>\n",
       "    .dataframe tbody tr th:only-of-type {\n",
       "        vertical-align: middle;\n",
       "    }\n",
       "\n",
       "    .dataframe tbody tr th {\n",
       "        vertical-align: top;\n",
       "    }\n",
       "\n",
       "    .dataframe thead th {\n",
       "        text-align: right;\n",
       "    }\n",
       "</style>\n",
       "<table border=\"1\" class=\"dataframe\">\n",
       "  <thead>\n",
       "    <tr style=\"text-align: right;\">\n",
       "      <th></th>\n",
       "      <th>bf</th>\n",
       "      <th>gf</th>\n",
       "      <th>id</th>\n",
       "    </tr>\n",
       "  </thead>\n",
       "  <tbody>\n",
       "    <tr>\n",
       "      <th>0</th>\n",
       "      <td>1.0</td>\n",
       "      <td>0.0</td>\n",
       "      <td>bf</td>\n",
       "    </tr>\n",
       "    <tr>\n",
       "      <th>1</th>\n",
       "      <td>1.0</td>\n",
       "      <td>0.0</td>\n",
       "      <td>bf</td>\n",
       "    </tr>\n",
       "    <tr>\n",
       "      <th>2</th>\n",
       "      <td>1.0</td>\n",
       "      <td>0.0</td>\n",
       "      <td>bf</td>\n",
       "    </tr>\n",
       "    <tr>\n",
       "      <th>3</th>\n",
       "      <td>1.0</td>\n",
       "      <td>0.0</td>\n",
       "      <td>bf</td>\n",
       "    </tr>\n",
       "    <tr>\n",
       "      <th>4</th>\n",
       "      <td>1.0</td>\n",
       "      <td>0.0</td>\n",
       "      <td>bf</td>\n",
       "    </tr>\n",
       "    <tr>\n",
       "      <th>...</th>\n",
       "      <td>...</td>\n",
       "      <td>...</td>\n",
       "      <td>...</td>\n",
       "    </tr>\n",
       "    <tr>\n",
       "      <th>61</th>\n",
       "      <td>0.0</td>\n",
       "      <td>1.0</td>\n",
       "      <td>gf</td>\n",
       "    </tr>\n",
       "    <tr>\n",
       "      <th>62</th>\n",
       "      <td>0.0</td>\n",
       "      <td>1.0</td>\n",
       "      <td>gf</td>\n",
       "    </tr>\n",
       "    <tr>\n",
       "      <th>63</th>\n",
       "      <td>1.0</td>\n",
       "      <td>0.0</td>\n",
       "      <td>bf</td>\n",
       "    </tr>\n",
       "    <tr>\n",
       "      <th>64</th>\n",
       "      <td>0.0</td>\n",
       "      <td>1.0</td>\n",
       "      <td>gf</td>\n",
       "    </tr>\n",
       "    <tr>\n",
       "      <th>65</th>\n",
       "      <td>1.0</td>\n",
       "      <td>0.0</td>\n",
       "      <td>bf</td>\n",
       "    </tr>\n",
       "  </tbody>\n",
       "</table>\n",
       "<p>66 rows × 3 columns</p>\n",
       "</div>"
      ],
      "text/plain": [
       "     bf   gf  id\n",
       "0   1.0  0.0  bf\n",
       "1   1.0  0.0  bf\n",
       "2   1.0  0.0  bf\n",
       "3   1.0  0.0  bf\n",
       "4   1.0  0.0  bf\n",
       "..  ...  ...  ..\n",
       "61  0.0  1.0  gf\n",
       "62  0.0  1.0  gf\n",
       "63  1.0  0.0  bf\n",
       "64  0.0  1.0  gf\n",
       "65  1.0  0.0  bf\n",
       "\n",
       "[66 rows x 3 columns]"
      ]
     },
     "execution_count": 16,
     "metadata": {},
     "output_type": "execute_result"
    }
   ],
   "source": [
    "df_y = pd.DataFrame(Y, columns=['bf', 'gf'])\n",
    "df_y['id'] = (df_y.iloc[:,:] == 1).idxmax(1)\n",
    "df_y"
   ]
  },
  {
   "cell_type": "code",
   "execution_count": 17,
   "metadata": {},
   "outputs": [
    {
     "name": "stdout",
     "output_type": "stream",
     "text": [
      "Confusion matrix, without normalization\n",
      "[[ 8 32]\n",
      " [ 0 26]]\n",
      "Normalized confusion matrix\n",
      "[[0.2 0.8]\n",
      " [0.  1. ]]\n"
     ]
    },
    {
     "data": {
      "image/png": "[encoded data removed]",
      "text/plain": [
       "<Figure size 640x480 with 2 Axes>"
      ]
     },
     "metadata": {},
     "output_type": "display_data"
    },
    {
     "data": {
      "image/png": "[encoded data removed]",
      "text/plain": [
       "<Figure size 640x480 with 2 Axes>"
      ]
     },
     "metadata": {},
     "output_type": "display_data"
    }
   ],
   "source": [
    "# Compute confusion matrix\n",
    "class_names = ['bf', 'gf']\n",
    "cnf_matrix = confusion_matrix(df_y['id'], df['id'])\n",
    "# np.set_printoptions(precision=2)\n",
    "\n",
    "# Plot non-normalized confusion matrix\n",
    "plt.figure()\n",
    "plot_confusion_matrix(cnf_matrix, classes=class_names,\n",
    "                      title='Confusion matrix, without normalization')\n",
    "\n",
    "plt.savefig('confusionmatrix.png')\n",
    "\n",
    "# Plot normalized confusion matrix\n",
    "plt.figure()\n",
    "plot_confusion_matrix(cnf_matrix, classes=class_names, normalize=True,\n",
    "                      title='Normalized confusion matrix')\n",
    "\n",
    "plt.savefig('confusionmatrix_normalized.png')\n",
    "\n",
    "plt.show()"
   ]
  },
  {
   "cell_type": "code",
   "execution_count": 18,
   "metadata": {},
   "outputs": [
    {
     "data": {
      "text/plain": [
       "array([[1., 0.],\n",
       "       [1., 0.],\n",
       "       [1., 0.],\n",
       "       [1., 0.],\n",
       "       [1., 0.],\n",
       "       [0., 1.],\n",
       "       [0., 1.],\n",
       "       [0., 1.],\n",
       "       [1., 0.],\n",
       "       [1., 0.],\n",
       "       [1., 0.],\n",
       "       [1., 0.],\n",
       "       [1., 0.],\n",
       "       [1., 0.],\n",
       "       [0., 1.],\n",
       "       [0., 1.],\n",
       "       [0., 1.],\n",
       "       [0., 1.],\n",
       "       [1., 0.],\n",
       "       [1., 0.],\n",
       "       [0., 1.],\n",
       "       [1., 0.],\n",
       "       [0., 1.],\n",
       "       [0., 1.],\n",
       "       [1., 0.],\n",
       "       [0., 1.],\n",
       "       [0., 1.],\n",
       "       [1., 0.],\n",
       "       [0., 1.],\n",
       "       [1., 0.],\n",
       "       [0., 1.],\n",
       "       [1., 0.],\n",
       "       [1., 0.],\n",
       "       [1., 0.],\n",
       "       [0., 1.],\n",
       "       [1., 0.],\n",
       "       [0., 1.],\n",
       "       [1., 0.],\n",
       "       [1., 0.],\n",
       "       [1., 0.],\n",
       "       [1., 0.],\n",
       "       [1., 0.],\n",
       "       [1., 0.],\n",
       "       [1., 0.],\n",
       "       [0., 1.],\n",
       "       [0., 1.],\n",
       "       [1., 0.],\n",
       "       [1., 0.],\n",
       "       [0., 1.],\n",
       "       [1., 0.],\n",
       "       [0., 1.],\n",
       "       [1., 0.],\n",
       "       [1., 0.],\n",
       "       [0., 1.],\n",
       "       [1., 0.],\n",
       "       [1., 0.],\n",
       "       [0., 1.],\n",
       "       [1., 0.],\n",
       "       [0., 1.],\n",
       "       [1., 0.],\n",
       "       [1., 0.],\n",
       "       [0., 1.],\n",
       "       [0., 1.],\n",
       "       [1., 0.],\n",
       "       [0., 1.],\n",
       "       [1., 0.]], dtype=float32)"
      ]
     },
     "execution_count": 18,
     "metadata": {},
     "output_type": "execute_result"
    }
   ],
   "source": [
    "Y"
   ]
  },
  {
   "cell_type": "code",
   "execution_count": null,
   "metadata": {},
   "outputs": [],
   "source": []
  }
 ],
 "metadata": {
  "kernelspec": {
   "display_name": "aifit",
   "language": "python",
   "name": "python3"
  },
  "language_info": {
   "codemirror_mode": {
    "name": "ipython",
    "version": 3
   },
   "file_extension": ".py",
   "mimetype": "text/x-python",
   "name": "python",
   "nbconvert_exporter": "python",
   "pygments_lexer": "ipython3",
   "version": "3.10.4"
  },
  "vscode": {
   "interpreter": {
    "hash": "f62e2af846e8ddca390a2d5ef08a3cf51126e6f77cace75ccddb703010a643e7"
   }
  }
 },
 "nbformat": 4,
 "nbformat_minor": 2
}
